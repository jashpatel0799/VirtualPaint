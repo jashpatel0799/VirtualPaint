{
 "cells": [
  {
   "cell_type": "code",
   "execution_count": 1,
   "id": "0a1c67fa-f091-4418-b616-a904db80e5cb",
   "metadata": {},
   "outputs": [],
   "source": [
    "import cv2\n",
    "from cvzone.HandTrackingModule import HandDetector"
   ]
  },
  {
   "cell_type": "code",
   "execution_count": 4,
   "id": "bca3ef7a-2e78-431f-9b70-c77a895c2508",
   "metadata": {},
   "outputs": [],
   "source": [
    "# capture the image from live video\n",
    "cap = cv2.VideoCapture(0)\n",
    "cap.set(cv2.CAP_PROP_FRAME_WIDTH, 1080)\n",
    "cap.set(cv2.CAP_PROP_FRAME_HEIGHT, 720)\n",
    "\n",
    "detector = HandDetector(detectionCon=0.8, maxHands=2)\n",
    "\n",
    "while True:\n",
    "    # read image from cap\n",
    "    success, img = cap.read()\n",
    "    \n",
    "    hands, img = detector.findHands(img)\n",
    "    # print(hands)\n",
    "    # print(img)\n",
    "    \n",
    "    if hands:\n",
    "        hand_1 = hands[0]\n",
    "        lm_list_1 = hand_1[\"lmList\"] # list of hand landmarks\n",
    "        bbox_1 = hand_1[\"bbox\"]  # bounding box in x,y,w,h \n",
    "        centerPoint_1 = hand_1[\"center\"]   # center of c_x, c_y\n",
    "        hand_type_1 = hand_1[\"type\"]   # Hand type left or right\n",
    "        \n",
    "        finger_1 = detector.fingersUp(hand_1)\n",
    "        # length, info, img = detector.findDistance(lm_list_1[8], lm_list_1[12], img)\n",
    "        # test = detector.findDistance(lm_list_1[8][:2], lm_list_1[12][:2], img)\n",
    "        # print(test)\n",
    "        length, info, img = detector.findDistance(lm_list_1[8][:2], lm_list_1[12][:2], img)\n",
    "        \n",
    "        # print(bbox_1)\n",
    "        \n",
    "        \n",
    "    if len(hands) == 2:\n",
    "        hand_2 = hands[1]\n",
    "        lm_list_2 = hand_2[\"lmList\"] # list of hand landmarks\n",
    "        bbox_2 = hand_2[\"bbox\"]  # bounding box in x,y,w,h \n",
    "        centerPoint_2 = hand_2[\"center\"]   # center of c_x, c_y\n",
    "        hand_type_2 = hand_2[\"type\"]   # Hand type left or right\n",
    "        \n",
    "        finger_2 = detector.fingersUp(hand_2)\n",
    "        \n",
    "        \n",
    "        # print(hand_type_1, hand_type_2)\n",
    "        # print(finger_1, finger_2)\n",
    "        # length, info = detector.findDistance(lm_list_1[8], lm_list_2[8])\n",
    "        length, info, img = detector.findDistance(lm_list_2[8][:2], lm_list_2[12][:2], img)\n",
    "    \n",
    "    cv2.imshow(\"Image\",img)\n",
    "    # cv2.waitKey(1)\n",
    "    \n",
    "    # To close frame\n",
    "    if cv2.waitKey(1) & 0xFF == ord('x'):\n",
    "        # cap.release()\n",
    "        # cv2.destroyAllWindows()\n",
    "        break\n",
    "        \n",
    "# When everything done, release the capture\n",
    "cap.release()\n",
    "cv2.destroyAllWindows()"
   ]
  },
  {
   "cell_type": "code",
   "execution_count": null,
   "id": "d80ff7ef-575e-482b-a858-88d0a83e2331",
   "metadata": {},
   "outputs": [],
   "source": []
  }
 ],
 "metadata": {
  "kernelspec": {
   "display_name": "Python 3.10.6 ('Project')",
   "language": "python",
   "name": "python3"
  },
  "language_info": {
   "codemirror_mode": {
    "name": "ipython",
    "version": 3
   },
   "file_extension": ".py",
   "mimetype": "text/x-python",
   "name": "python",
   "nbconvert_exporter": "python",
   "pygments_lexer": "ipython3",
   "version": "3.10.6"
  },
  "vscode": {
   "interpreter": {
    "hash": "c0de1d9a50cc0d3313e41c38345ea2d57b65056ef3edbb72ef6ce7860cc370dc"
   }
  }
 },
 "nbformat": 4,
 "nbformat_minor": 5
}
